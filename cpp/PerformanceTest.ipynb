{
 "cells": [
  {
   "cell_type": "code",
   "execution_count": 33,
   "metadata": {},
   "outputs": [],
   "source": [
    "import torch"
   ]
  },
  {
   "cell_type": "code",
   "execution_count": 34,
   "metadata": {},
   "outputs": [],
   "source": [
    "import fc_layer"
   ]
  },
  {
   "cell_type": "code",
   "execution_count": 44,
   "metadata": {},
   "outputs": [],
   "source": [
    "import math\n",
    "import torch\n",
    "import fc_layer\n",
    "\n",
    "class FCFunction(torch.autograd.Function):\n",
    "    @staticmethod\n",
    "    def forward(ctx, input, weights, bias):\n",
    "        outputs = fc_layer.forward(input, weights, bias)\n",
    "        variables = [input, weights, bias]\n",
    "        ctx.save_for_backward(*variables)\n",
    "        output = outputs[0]\n",
    "        \n",
    "        return output\n",
    "    \n",
    "    @staticmethod\n",
    "    def backward(ctx, dout):\n",
    "        output = fc_layer.backward(*ctx.saved_variables, dout)\n",
    "        dx, dW, db = output\n",
    "        \n",
    "        return dx, dW, db\n",
    "    \n",
    "class FullyConnected(torch.nn.Module):\n",
    "    def __init__(self, input_features, output_features):\n",
    "        super(FullyConnected, self).__init__()\n",
    "        self.input_features = input_features\n",
    "        self.output_features = output_features\n",
    "        self.weights = torch.nn.Parameter(torch.normal(0, 1/input_features**0.5,(input_features, output_features))) \n",
    "        self.bias = torch.nn.Parameter(torch.normal(0, 1/input_features**0.5, (output_features,)))\n",
    "        \n",
    "    def forward(self, input):\n",
    "        return FCFunction.apply(input, self.weights, self.bias)"
   ]
  },
  {
   "cell_type": "code",
   "execution_count": null,
   "metadata": {},
   "outputs": [],
   "source": [
    "FC = torch.nn.Linear(2, 3)\n",
    "input1 = torch.randn(5, 2)\n",
    "output1 = FC(input1) "
   ]
  },
  {
   "cell_type": "code",
   "execution_count": 51,
   "metadata": {},
   "outputs": [
    {
     "name": "stderr",
     "output_type": "stream",
     "text": [
      "/home/bpn/venv/lib/python3.6/site-packages/ipykernel_launcher.py:18: DeprecationWarning: 'saved_variables' is deprecated; use 'saved_tensors'\n"
     ]
    },
    {
     "name": "stdout",
     "output_type": "stream",
     "text": [
      "Forward: 34.797 us | Backward 94.797 us\n",
      "Forward: 46.753 us | Backward 90.307 us\n"
     ]
    }
   ],
   "source": [
    "import time\n",
    "import torch\n",
    "\n",
    "batch_size = 128\n",
    "input_size = 20\n",
    "output_size = 30\n",
    "input1 = torch.randn(batch_size, input_size)\n",
    "\n",
    "FC_Cpp = FullyConnected(input_size, output_size)\n",
    "FC_Torch = torch.nn.Linear(input_size, output_size)\n",
    "\n",
    "forward2 = 0\n",
    "backward2 = 0\n",
    "\n",
    "for _ in range(100000):\n",
    "    start = time.time()\n",
    "    output2 = FC_Cpp(input1)\n",
    "    forward2 += time.time() - start\n",
    "\n",
    "    start = time.time()\n",
    "    (output2.sum()).backward()\n",
    "    backward2 += time.time() - start\n",
    "\n",
    "print('Forward: {:.3f} us | Backward {:.3f} us'.format(forward * 1e6/1e5, backward * 1e6/1e5))\n",
    "\n",
    "forward1 = 0\n",
    "backward1 = 0\n",
    "\n",
    "for _ in range(100000):\n",
    "    start = time.time()\n",
    "    output1 = FC_Torch(input1)\n",
    "    forward1 += time.time() - start\n",
    "\n",
    "    start = time.time()\n",
    "    (output1.sum()).backward()\n",
    "    backward1 += time.time() - start\n",
    "\n",
    "print('Forward: {:.3f} us | Backward {:.3f} us'.format(forward1 * 1e6/1e5, backward1 * 1e6/1e5))"
   ]
  }
 ],
 "metadata": {
  "kernelspec": {
   "display_name": "Python 3",
   "language": "python",
   "name": "python3"
  },
  "language_info": {
   "codemirror_mode": {
    "name": "ipython",
    "version": 3
   },
   "file_extension": ".py",
   "mimetype": "text/x-python",
   "name": "python",
   "nbconvert_exporter": "python",
   "pygments_lexer": "ipython3",
   "version": "3.6.9"
  }
 },
 "nbformat": 4,
 "nbformat_minor": 2
}
